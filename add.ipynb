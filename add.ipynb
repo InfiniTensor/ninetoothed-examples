{
 "cells": [
  {
   "cell_type": "code",
   "execution_count": null,
   "metadata": {},
   "outputs": [],
   "source": [
    "import ninetoothed\n",
    "import torch\n",
    "import triton\n",
    "from ninetoothed import Symbol, Tensor"
   ]
  },
  {
   "cell_type": "code",
   "execution_count": null,
   "metadata": {},
   "outputs": [],
   "source": [
    "def add(lhs, rhs):\n",
    "    BLOCK_SIZE = Symbol(\"BLOCK_SIZE\", meta=True)\n",
    "\n",
    "    @ninetoothed.jit\n",
    "    def add_kernel(\n",
    "        lhs: Tensor(1).tile((BLOCK_SIZE,)),\n",
    "        rhs: Tensor(1).tile((BLOCK_SIZE,)),\n",
    "        output: Tensor(1).tile((BLOCK_SIZE,)),\n",
    "    ):\n",
    "        output = lhs + rhs  # noqa: F841\n",
    "\n",
    "    output = torch.empty_like(lhs)\n",
    "\n",
    "    add_kernel(lhs, rhs, output)\n",
    "\n",
    "    return output"
   ]
  },
  {
   "cell_type": "code",
   "execution_count": null,
   "metadata": {},
   "outputs": [],
   "source": [
    "torch.manual_seed(0)\n",
    "size = 98432\n",
    "lhs = torch.rand(size, device=\"cuda\")\n",
    "rhs = torch.rand(size, device=\"cuda\")\n",
    "torch_output = lhs + rhs\n",
    "ninetoothed_output = add(lhs, rhs)\n",
    "print(torch_output)\n",
    "print(ninetoothed_output)"
   ]
  },
  {
   "cell_type": "code",
   "execution_count": null,
   "metadata": {},
   "outputs": [],
   "source": [
    "@triton.testing.perf_report(\n",
    "    triton.testing.Benchmark(\n",
    "        x_names=[\"size\"],\n",
    "        x_vals=[2**i for i in range(12, 28, 1)],\n",
    "        x_log=True,\n",
    "        line_arg=\"provider\",\n",
    "        line_vals=[\"ninetoothed\", \"torch\"],\n",
    "        line_names=[\"NineToothed\", \"PyTorch\"],\n",
    "        styles=[(\"blue\", \"-\"), (\"green\", \"-\")],\n",
    "        ylabel=\"GB/s\",\n",
    "        plot_name=\"vector-addition-performance\",\n",
    "        args={},\n",
    "    )\n",
    ")\n",
    "def benchmark(size, provider):\n",
    "    x = torch.rand(size, device=\"cuda\", dtype=torch.float32)\n",
    "    y = torch.rand(size, device=\"cuda\", dtype=torch.float32)\n",
    "    quantiles = [0.5, 0.2, 0.8]\n",
    "    if provider == \"torch\":\n",
    "        ms, min_ms, max_ms = triton.testing.do_bench(lambda: x + y, quantiles=quantiles)\n",
    "    if provider == \"ninetoothed\":\n",
    "        ms, min_ms, max_ms = triton.testing.do_bench(\n",
    "            lambda: add(x, y), quantiles=quantiles\n",
    "        )\n",
    "\n",
    "    def gbps(ms):\n",
    "        return 3 * x.numel() * x.element_size() / ms * 1e-6\n",
    "\n",
    "    return gbps(ms), gbps(max_ms), gbps(min_ms)"
   ]
  },
  {
   "cell_type": "code",
   "execution_count": null,
   "metadata": {},
   "outputs": [],
   "source": [
    "benchmark.run(print_data=True, show_plots=True)"
   ]
  }
 ],
 "metadata": {
  "kernelspec": {
   "display_name": ".venv",
   "language": "python",
   "name": "python3"
  },
  "language_info": {
   "codemirror_mode": {
    "name": "ipython",
    "version": 3
   },
   "file_extension": ".py",
   "mimetype": "text/x-python",
   "name": "python",
   "nbconvert_exporter": "python",
   "pygments_lexer": "ipython3",
   "version": "3.10.12"
  }
 },
 "nbformat": 4,
 "nbformat_minor": 2
}
